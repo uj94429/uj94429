{
  "nbformat": 4,
  "nbformat_minor": 0,
  "metadata": {
    "colab": {
      "provenance": [],
      "authorship_tag": "ABX9TyPc59TYFkx64TDykfS01zMR",
      "include_colab_link": true
    },
    "kernelspec": {
      "name": "python3",
      "display_name": "Python 3"
    },
    "language_info": {
      "name": "python"
    }
  },
  "cells": [
    {
      "cell_type": "markdown",
      "metadata": {
        "id": "view-in-github",
        "colab_type": "text"
      },
      "source": [
        "<a href=\"https://colab.research.google.com/github/uj94429/uj94429/blob/main/%E8%A8%88%E7%AE%97%E7%B4%AF%E7%A9%8D%E6%95%B8%E5%AD%97.ipynb\" target=\"_parent\"><img src=\"https://colab.research.google.com/assets/colab-badge.svg\" alt=\"Open In Colab\"/></a>"
      ]
    },
    {
      "cell_type": "code",
      "execution_count": 1,
      "metadata": {
        "colab": {
          "base_uri": "https://localhost:8080/"
        },
        "id": "W5jduqF9lcBT",
        "outputId": "ff4501e4-8398-4703-e2b9-0b2b5e87648c"
      },
      "outputs": [
        {
          "output_type": "stream",
          "name": "stdout",
          "text": [
            "28347871\n",
            "55350164\n",
            "83018406\n",
            "109314335\n"
          ]
        }
      ],
      "source": [
        "Q1=28347871\n",
        "Q2=27002293\n",
        "Q3=27668242\n",
        "Q4=26295929\n",
        "\n",
        "acc_Q1=Q1\n",
        "print(acc_Q1)\n",
        "\n",
        "acc_Q2=Q1+Q2\n",
        "print(acc_Q2)\n",
        "\n",
        "acc_Q3=Q1+Q2+Q3\n",
        "print(acc_Q3)\n",
        "\n",
        "acc_Q4=Q1+Q2+Q3+Q4\n",
        "print(acc_Q4)\n",
        "\n",
        "\n"
      ]
    }
  ]
}